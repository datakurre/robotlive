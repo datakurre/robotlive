{
 "cells": [
  {
   "cell_type": "code",
   "execution_count": null,
   "metadata": {
    "tags": []
   },
   "outputs": [],
   "source": [
    "# This cell imports all required libraries and setups some helpers\n",
    "import micropip\n",
    "await micropip.install([\"ipywidgets\", \"pandas\", \"plotly==5.1.0\"])\n",
    "\n",
    "from IPython.display import display, clear_output, JSON\n",
    "from ipywidgets import interact, widgets\n",
    "\n",
    "import js\n",
    "import json\n",
    "import os\n",
    "import pandas as pd\n",
    "import plotly.express as px\n",
    "\n",
    "\n",
    "class Camunda:\n",
    "    @staticmethod\n",
    "    def get(path):\n",
    "        request = js.XMLHttpRequest.new()\n",
    "        request.open(\"GET\", f\"{os.environ['CAMUNDA_ENGINE_API']}{path}\", False)\n",
    "        request.send(None)\n",
    "        assert request.status in [200, 204], request.responseText\n",
    "        return json.loads(request.responseText or 'null')"
   ]
  },
  {
   "cell_type": "markdown",
   "metadata": {},
   "source": [
    "At first, let's test our helpers to fetch past processes and display them with pandas DataFrame:"
   ]
  },
  {
   "cell_type": "code",
   "execution_count": null,
   "metadata": {
    "tags": []
   },
   "outputs": [],
   "source": [
    "pd.DataFrame(Camunda.get(\"/history/process-instance\"))"
   ]
  },
  {
   "cell_type": "markdown",
   "metadata": {},
   "source": [
    "Next, we could fetch the data into a variable and select only the columns we are interested in."
   ]
  },
  {
   "cell_type": "code",
   "execution_count": null,
   "metadata": {
    "tags": []
   },
   "outputs": [],
   "source": [
    "df = pd.DataFrame(Camunda.get(\"/history/process-instance\"))\n",
    "df = df[[\"processDefinitionKey\", \"durationInMillis\"]]\n",
    "df"
   ]
  },
  {
   "cell_type": "markdown",
   "metadata": {},
   "source": [
    "Finally, we could do some plotting"
   ]
  },
  {
   "cell_type": "code",
   "execution_count": null,
   "metadata": {
    "tags": []
   },
   "outputs": [],
   "source": [
    "px.box(df, x=\"processDefinitionKey\", y=\"durationInMillis\", color=\"processDefinitionKey\")"
   ]
  },
  {
   "cell_type": "markdown",
   "metadata": {},
   "source": [
    "Or do everything in a single line:"
   ]
  },
  {
   "cell_type": "code",
   "execution_count": null,
   "metadata": {},
   "outputs": [],
   "source": [
    "px.box(pd.DataFrame(Camunda.get(\"/history/process-instance\"))[[\"processDefinitionKey\", \"durationInMillis\"]], x=\"processDefinitionKey\", y=\"durationInMillis\", color=\"processDefinitionKey\")"
   ]
  },
  {
   "cell_type": "markdown",
   "metadata": {},
   "source": [
    "Jupyter Widgets could be used to interactively choose the data:"
   ]
  },
  {
   "cell_type": "code",
   "execution_count": null,
   "metadata": {
    "tags": []
   },
   "outputs": [],
   "source": [
    "@interact(key=widgets.RadioButtons(\n",
    "    options=['traffic-data-loader', 'traffic-data-loader-parallel'],\n",
    "    value='traffic-data-loader',\n",
    "    disabled=False,\n",
    "))\n",
    "def plot(key):\n",
    "    display(px.box(df[df.processDefinitionKey == key], x=\"processDefinitionKey\", y=\"durationInMillis\", color=\"processDefinitionKey\"))"
   ]
  }
 ],
 "metadata": {
  "kernelspec": {
   "display_name": "Pyolite",
   "language": "python",
   "name": "python"
  },
  "language_info": {
   "codemirror_mode": {
    "name": "python",
    "version": 3
   },
   "file_extension": ".py",
   "mimetype": "text/x-python",
   "name": "python",
   "nbconvert_exporter": "python",
   "pygments_lexer": "ipython3",
   "version": "3.8"
  }
 },
 "nbformat": 4,
 "nbformat_minor": 4
}
