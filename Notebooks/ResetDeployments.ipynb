{
 "cells": [
  {
   "cell_type": "code",
   "execution_count": null,
   "metadata": {},
   "outputs": [],
   "source": [
    "# This cell imports all required libraries and setups some helpers\n",
    "import micropip\n",
    "await micropip.install([\"ipywidgets\"])\n",
    "\n",
    "from IPython.display import display, JSON\n",
    "from ipywidgets import widgets\n",
    "\n",
    "import js\n",
    "import json\n",
    "import os\n",
    "\n",
    "\n",
    "class Camunda:\n",
    "    @staticmethod\n",
    "    def get(path):\n",
    "        request = js.XMLHttpRequest.new()\n",
    "        request.open(\"GET\", f\"{os.environ['CAMUNDA_ENGINE_API']}{path}\", False)\n",
    "        request.send(None)\n",
    "        assert request.status in [200, 204], request.responseText\n",
    "        return json.loads(request.responseText or 'null')\n",
    "    \n",
    "    @staticmethod\n",
    "    def delete(path):\n",
    "        request = js.XMLHttpRequest.new()\n",
    "        request.open(\"DELETE\", f\"{os.environ['CAMUNDA_ENGINE_API']}{path}\", False)\n",
    "        request.setRequestHeader(\"X-XSRF-TOKEN\", os.environ['CAMUNDA_CSRF_TOKEN'])\n",
    "        request.send(None)\n",
    "        assert request.status in [200, 204], request.responseText\n",
    "        return json.loads(request.responseText or 'null')"
   ]
  },
  {
   "cell_type": "code",
   "execution_count": null,
   "metadata": {},
   "outputs": [],
   "source": [
    "button = widgets.Button(description='Reset deployments')\n",
    "out = widgets.Output()\n",
    "def on_button_clicked(_):\n",
    "    data = Camunda.get(\"/deployment/\")\n",
    "    for deployment in data:\n",
    "        path = f\"/deployment/{deployment['id']}?cascade=true&skipCustomListeners=true&skipIoMappings=true\"\n",
    "        with out:\n",
    "            display(path)\n",
    "        Camunda.delete(path)\n",
    "button.on_click(on_button_clicked)\n",
    "widgets.VBox([button,out])"
   ]
  }
 ],
 "metadata": {
  "kernelspec": {
   "display_name": "Pyolite",
   "language": "python",
   "name": "python"
  },
  "language_info": {
   "codemirror_mode": {
    "name": "python",
    "version": 3
   },
   "file_extension": ".py",
   "mimetype": "text/x-python",
   "name": "python",
   "nbconvert_exporter": "python",
   "pygments_lexer": "ipython3",
   "version": "3.8"
  }
 },
 "nbformat": 4,
 "nbformat_minor": 4
}
