{
 "cells": [
  {
   "cell_type": "code",
   "execution_count": null,
   "metadata": {},
   "outputs": [],
   "source": [
    "%%python module Camunda\n",
    "\n",
    "from js import XMLHttpRequest\n",
    "from urllib.parse import urlencode\n",
    "from IPython.display import display\n",
    "\n",
    "import json\n",
    "import os\n",
    "\n",
    "def http(method, path, params=None, data=None):\n",
    "    request = XMLHttpRequest.new()\n",
    "    request.open(method, f\"{os.environ['CAMUNDA_ENGINE_API']}{path}?{urlencode(params or {})}\", False)\n",
    "    request.setRequestHeader(\"X-XSRF-TOKEN\", os.environ[\"CAMUNDA_CSRF_TOKEN\"])\n",
    "    request.setRequestHeader(\"Content-Type\", \"application/json\")\n",
    "    request.send(json.dumps(data))\n",
    "    assert request.status in [200, 204], request.responseText\n",
    "    return json.loads(request.responseText or \"null\")\n",
    "\n",
    "class Camunda:\n",
    "    ROBOT_LIBRARY_SCOPE = 'SUITE'\n",
    "\n",
    "    def __init__(self):\n",
    "        self.process_ids = []\n",
    "    \n",
    "    def get_definitions(self):\n",
    "        params = dict(latest=\"true\")\n",
    "        results = http(\"GET\", \"/process-definition\", params)\n",
    "        return [d[\"key\"] for d in results]\n",
    "    \n",
    "    def get_instances(self):\n",
    "        return http(\"GET\", \"/process-instance\")\n",
    "    \n",
    "    def get_external_tasks(self):\n",
    "        assert self.process_ids, \"No process managed by Camunda library instance is running\"\n",
    "        params = dict(processInstanceId=self.process_ids[-1])\n",
    "        return http(\"GET\", \"/external-task\", params)\n",
    "    \n",
    "    def complete_external_task(self, topic, variables):\n",
    "        worker_id = f\"{self.__class__.__name__}:{id(self)}\"\n",
    "        data = dict(\n",
    "            workerId=worker_id,\n",
    "            maxTasks=1,\n",
    "            topics=[dict(\n",
    "                topicName=topic,\n",
    "                lockDuration=1000\n",
    "            )]\n",
    "        )\n",
    "        external_tasks = http(\"POST\", \"/external-task/fetchAndLock\", data=data)\n",
    "        external_tasks = [x for x in external_tasks if x[\"processInstanceId\"] == self.process_ids[-1]]\n",
    "        assert external_tasks, \"No external tasks available\"\n",
    "        for external_task in external_tasks:\n",
    "            return external_task\n",
    "    \n",
    "    def start_instance(self, key):\n",
    "        data = dict(variables={})\n",
    "        instance = http(\"POST\", f\"/process-definition/key/{key}/start\", data=data)\n",
    "        self.process_ids.append(instance[\"id\"])\n",
    "        \n",
    "    def stop_instance(self):\n",
    "        if self.process_ids:\n",
    "            params = dict(\n",
    "                skipCustomListeners=\"true\",\n",
    "                skipIoMappings=\"true\",\n",
    "                failIfNotExist=\"false\",\n",
    "            )\n",
    "            http(\"DELETE\", f\"/process-instance/{self.process_ids.pop()}\", params)\n",
    "        "
   ]
  },
  {
   "cell_type": "code",
   "execution_count": null,
   "metadata": {},
   "outputs": [],
   "source": [
    "*** Settings ***\n",
    "\n",
    "Library  Camunda\n",
    "\n",
    "Suite setup  Start instance  ${PROCESS_KEY}\n",
    "Suite teardown  Stop instance\n",
    "\n",
    "*** Variables ***\n",
    "\n",
    "${PROCESS_KEY}  traffic-data-loader"
   ]
  },
  {
   "cell_type": "code",
   "execution_count": null,
   "metadata": {},
   "outputs": [],
   "source": [
    "*** Keywords ***\n",
    "\n",
    "Number of instances should be\n",
    "    [Arguments]  ${number}  ${error}\n",
    "    ${instances}=  Get instances\n",
    "    ${number of instances}=  Get length  ${instances}\n",
    "    Should be equal as integers  ${number of instances}  ${number}  ${error}\n",
    "    \n",
    "Number of external tasks should be\n",
    "    [Arguments]  ${number}  ${error}\n",
    "    ${external tasks}=  Get external tasks\n",
    "    ${number of external tasks}=  Get length  ${external tasks}\n",
    "    Should be equal as integers  ${number of external tasks}  ${number}  ${error}\n",
    "\n",
    "Topic for all externals tasks should be\n",
    "    [Arguments]  ${topic}  ${error}\n",
    "    ${external tasks}=  Get external tasks\n",
    "    FOR  ${external task}  IN  @{external tasks}\n",
    "        Should be equal  ${external task}[topicName]  ${topic}  ${error}\n",
    "    END"
   ]
  },
  {
   "cell_type": "code",
   "execution_count": null,
   "metadata": {},
   "outputs": [],
   "source": [
    "*** Test Cases ***\n",
    "\n",
    "Test process is properly setup and teardown\n",
    "    Number of instances should be  1  Process should really be running\n",
    "    \n",
    "Test start and stop instance\n",
    "    Start instance  ${PROCESS_KEY}\n",
    "    Number of instances should be  2  A new process should really be running\n",
    "    [Teardown]  Stop instance"
   ]
  },
  {
   "cell_type": "code",
   "execution_count": null,
   "metadata": {},
   "outputs": [],
   "source": [
    "*** Test Cases ***\n",
    "\n",
    "Producer task is the first task\n",
    "    Number of external tasks should be  1  Process should start with Producer task\n",
    "    Topic for all externals tasks should be  Produce traffic data work items  Wrong topic"
   ]
  },
  {
   "cell_type": "code",
   "execution_count": null,
   "metadata": {},
   "outputs": [],
   "source": [
    "*** Test Cases ***\n",
    "\n",
    "WIP\n",
    "    ${variables}=  Create dictionary\n",
    "    Complete external task\n",
    "    ...  Produce traffic data work items\n",
    "    ...  ${variables}"
   ]
  },
  {
   "cell_type": "code",
   "execution_count": null,
   "metadata": {},
   "outputs": [],
   "source": []
  }
 ],
 "metadata": {
  "kernelspec": {
   "display_name": "Robot Framework",
   "language": "robotframework",
   "name": "Robot Framework"
  },
  "language_info": {
   "codemirror_mode": {
    "name": "robotframework",
    "version": 3
   },
   "file_extension": ".robot",
   "mimetype": "text/x-robotframework",
   "name": "robotframework",
   "nbconvert_exporter": "robotframework",
   "pygments_lexer": "robotframework",
   "version": "3.8"
  }
 },
 "nbformat": 4,
 "nbformat_minor": 4
}
