{
 "cells": [
  {
   "cell_type": "code",
   "execution_count": null,
   "metadata": {},
   "outputs": [],
   "source": [
    "%%python module Camunda\n",
    "\n",
    "from js import XMLHttpRequest\n",
    "from urllib.parse import urlencode\n",
    "from IPython.display import display\n",
    "\n",
    "import json\n",
    "import os\n",
    "\n",
    "def get(path, params=None):\n",
    "    request = XMLHttpRequest.new()\n",
    "    request.open(\"GET\", f\"{os.environ['CAMUNDA_ENGINE_API']}{path}?{urlencode(params or {})}\", False)\n",
    "    request.send(None)\n",
    "    assert request.status in [200, 204], request.responseText\n",
    "    return json.loads(request.responseText or \"null\")\n",
    "\n",
    "def post(path, data=None):\n",
    "    request = XMLHttpRequest.new()\n",
    "    request.setHeader(\"X-XSRF-TOKEN\", os.environ[\"CAMUNDA_CSRF_TOKEN\"])\n",
    "    request.setHeader(\"Content-Type\", \"application/json\")\n",
    "    request.open(\"POST\", f\"{os.environ['CAMUNDA_ENGINE_API']}{path}\", False)\n",
    "    request.send(json.dumps(data))\n",
    "    assert request.status in [200, 204], request.responseText\n",
    "    return json.loads(request.responseText or \"null\")\n",
    "\n",
    "class Camunda:\n",
    "\n",
    "    def __init__(self):\n",
    "        self.process_id = None\n",
    "    \n",
    "    def get_definitions(self):\n",
    "        results = get(\"/process-definition\", dict(latest=True))\n",
    "        return [d[\"processDefinitionKey\"] for d in results]\n",
    "    \n",
    "    def start_instance(self, key):\n",
    "        instance = post(f\"/process-definition/key/{key}/start\")"
   ]
  },
  {
   "cell_type": "code",
   "execution_count": null,
   "metadata": {},
   "outputs": [],
   "source": [
    "*** Settings ***\n",
    "\n",
    "Library  Camunda"
   ]
  },
  {
   "cell_type": "code",
   "execution_count": null,
   "metadata": {},
   "outputs": [],
   "source": [
    "*** Tasks ***\n",
    "\n",
    "WIP\n",
    "    Get deployments"
   ]
  },
  {
   "cell_type": "code",
   "execution_count": null,
   "metadata": {},
   "outputs": [],
   "source": []
  }
 ],
 "metadata": {
  "kernelspec": {
   "display_name": "Robot Framework",
   "language": "robotframework",
   "name": "Robot Framework"
  },
  "language_info": {
   "codemirror_mode": {
    "name": "robotframework",
    "version": 3
   },
   "file_extension": ".robot",
   "mimetype": "text/x-robotframework",
   "name": "robotframework",
   "nbconvert_exporter": "robotframework",
   "pygments_lexer": "robotframework",
   "version": "3.8"
  }
 },
 "nbformat": 4,
 "nbformat_minor": 4
}
